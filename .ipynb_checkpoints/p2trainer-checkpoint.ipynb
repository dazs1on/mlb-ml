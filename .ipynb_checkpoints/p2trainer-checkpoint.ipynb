{
 "cells": [
  {
   "cell_type": "code",
   "execution_count": 6,
   "id": "d83a0097",
   "metadata": {},
   "outputs": [
    {
     "data": {
      "text/plain": [
       "(8701, 1126)"
      ]
     },
     "execution_count": 6,
     "metadata": {},
     "output_type": "execute_result"
    }
   ],
   "source": [
    "import pickle\n",
    "df = pickle.load(open('dataframe.pkl', 'rb'))\n",
    "df.shape"
   ]
  },
  {
   "cell_type": "code",
   "execution_count": 7,
   "id": "8d3b2432",
   "metadata": {},
   "outputs": [],
   "source": [
    "encode_me = [x for x in df.keys() if 'object' in str(df[x].dtype)]\n",
    "for x in encode_me:\n",
    "    df[x] = df.groupby(x)['home_team_win'].apply(lambda x:x.rolling(180).mean()).shift(1)"
   ]
  },
  {
   "cell_type": "code",
   "execution_count": 8,
   "id": "a875595f",
   "metadata": {},
   "outputs": [],
   "source": [
    "df = df.sort_values(by='date').copy().reset_index(drop=True)\n",
    "X = df.drop(columns=['home_team_win', 'game_id'])\n",
    "y = df.home_team_win\n",
    "\n",
    "X_train = X[:-1000]\n",
    "y_train = y[:-1000]\n",
    "X_valid = X[-1000:-500]\n",
    "y_valid = y[-1000:-500]\n",
    "X_test = X[-500:]\n",
    "y_test = y[-500:]"
   ]
  },
  {
   "cell_type": "code",
   "execution_count": 9,
   "id": "df659f8b",
   "metadata": {},
   "outputs": [
    {
     "name": "stderr",
     "output_type": "stream",
     "text": [
      "C:\\Users\\Aaron\\anaconda3\\lib\\site-packages\\xgboost\\sklearn.py:1146: UserWarning: The use of label encoder in XGBClassifier is deprecated and will be removed in a future release. To remove this warning, do the following: 1) Pass option use_label_encoder=False when constructing XGBClassifier object; and 2) Encode your labels (y) as integers starting with 0, i.e. 0, 1, 2, ..., [num_class - 1].\n",
      "  warnings.warn(label_encoder_deprecation_msg, UserWarning)\n"
     ]
    },
    {
     "name": "stdout",
     "output_type": "stream",
     "text": [
      "[0]\tvalidation_0-logloss:0.68939\tvalidation_1-logloss:0.69157\n",
      "[1]\tvalidation_0-logloss:0.68569\tvalidation_1-logloss:0.68988\n",
      "[2]\tvalidation_0-logloss:0.68231\tvalidation_1-logloss:0.68884\n",
      "[3]\tvalidation_0-logloss:0.67872\tvalidation_1-logloss:0.68763\n",
      "[4]\tvalidation_0-logloss:0.67533\tvalidation_1-logloss:0.68635\n",
      "[5]\tvalidation_0-logloss:0.67242\tvalidation_1-logloss:0.68586\n",
      "[6]\tvalidation_0-logloss:0.66942\tvalidation_1-logloss:0.68490\n",
      "[7]\tvalidation_0-logloss:0.66628\tvalidation_1-logloss:0.68425\n",
      "[8]\tvalidation_0-logloss:0.66329\tvalidation_1-logloss:0.68337\n",
      "[9]\tvalidation_0-logloss:0.66091\tvalidation_1-logloss:0.68191\n",
      "[10]\tvalidation_0-logloss:0.65774\tvalidation_1-logloss:0.68146\n",
      "[11]\tvalidation_0-logloss:0.65489\tvalidation_1-logloss:0.68170\n",
      "[12]\tvalidation_0-logloss:0.65227\tvalidation_1-logloss:0.68170\n",
      "[13]\tvalidation_0-logloss:0.64962\tvalidation_1-logloss:0.68188\n",
      "[14]\tvalidation_0-logloss:0.64712\tvalidation_1-logloss:0.68128\n",
      "[15]\tvalidation_0-logloss:0.64435\tvalidation_1-logloss:0.68076\n",
      "[16]\tvalidation_0-logloss:0.64243\tvalidation_1-logloss:0.68126\n",
      "[17]\tvalidation_0-logloss:0.64007\tvalidation_1-logloss:0.68119\n",
      "[18]\tvalidation_0-logloss:0.63783\tvalidation_1-logloss:0.67959\n",
      "[19]\tvalidation_0-logloss:0.63522\tvalidation_1-logloss:0.67788\n",
      "[20]\tvalidation_0-logloss:0.63261\tvalidation_1-logloss:0.67774\n",
      "[21]\tvalidation_0-logloss:0.63061\tvalidation_1-logloss:0.67696\n",
      "[22]\tvalidation_0-logloss:0.62848\tvalidation_1-logloss:0.67553\n",
      "[23]\tvalidation_0-logloss:0.62599\tvalidation_1-logloss:0.67564\n",
      "[24]\tvalidation_0-logloss:0.62399\tvalidation_1-logloss:0.67535\n",
      "[25]\tvalidation_0-logloss:0.62211\tvalidation_1-logloss:0.67462\n",
      "[26]\tvalidation_0-logloss:0.61947\tvalidation_1-logloss:0.67427\n",
      "[27]\tvalidation_0-logloss:0.61752\tvalidation_1-logloss:0.67437\n",
      "[28]\tvalidation_0-logloss:0.61533\tvalidation_1-logloss:0.67403\n",
      "[29]\tvalidation_0-logloss:0.61321\tvalidation_1-logloss:0.67375\n",
      "[30]\tvalidation_0-logloss:0.61068\tvalidation_1-logloss:0.67329\n",
      "[31]\tvalidation_0-logloss:0.60882\tvalidation_1-logloss:0.67303\n",
      "[32]\tvalidation_0-logloss:0.60649\tvalidation_1-logloss:0.67258\n",
      "[33]\tvalidation_0-logloss:0.60449\tvalidation_1-logloss:0.67308\n",
      "[34]\tvalidation_0-logloss:0.60249\tvalidation_1-logloss:0.67303\n",
      "[35]\tvalidation_0-logloss:0.60064\tvalidation_1-logloss:0.67349\n",
      "[36]\tvalidation_0-logloss:0.59922\tvalidation_1-logloss:0.67358\n",
      "[37]\tvalidation_0-logloss:0.59776\tvalidation_1-logloss:0.67351\n",
      "[38]\tvalidation_0-logloss:0.59569\tvalidation_1-logloss:0.67427\n",
      "[39]\tvalidation_0-logloss:0.59429\tvalidation_1-logloss:0.67436\n",
      "[40]\tvalidation_0-logloss:0.59309\tvalidation_1-logloss:0.67450\n",
      "[41]\tvalidation_0-logloss:0.59135\tvalidation_1-logloss:0.67476\n",
      "[42]\tvalidation_0-logloss:0.59034\tvalidation_1-logloss:0.67449\n"
     ]
    }
   ],
   "source": [
    "import xgboost as xgb\n",
    "params = {'learning_rate': 0.05,'max_depth': 5}\n",
    "gbm = xgb.XGBClassifier(**params)\n",
    "model = gbm.fit(X_train, y_train,\n",
    "                eval_set = [[X_train, y_train],\n",
    "                          [X_valid, y_valid]],\n",
    "                eval_metric='logloss',\n",
    "                early_stopping_rounds=10)\n",
    "xgb_test_preds = model.predict(X_test)\n",
    "xgb_test_proba = model.predict_proba(X_test)[:,1]"
   ]
  },
  {
   "cell_type": "code",
   "execution_count": 5,
   "id": "ef648b2d",
   "metadata": {},
   "outputs": [
    {
     "ename": "ModuleNotFoundError",
     "evalue": "No module named 'xgboost'",
     "output_type": "error",
     "traceback": [
      "\u001b[1;31m---------------------------------------------------------------------------\u001b[0m",
      "\u001b[1;31mModuleNotFoundError\u001b[0m                       Traceback (most recent call last)",
      "\u001b[1;32m<ipython-input-5-3383db99eefd>\u001b[0m in \u001b[0;36m<module>\u001b[1;34m\u001b[0m\n\u001b[1;32m----> 1\u001b[1;33m \u001b[1;32mimport\u001b[0m \u001b[0mxgboost\u001b[0m \u001b[1;32mas\u001b[0m \u001b[0mxgb\u001b[0m\u001b[1;33m\u001b[0m\u001b[1;33m\u001b[0m\u001b[0m\n\u001b[0m\u001b[0;32m      2\u001b[0m \u001b[0mparams\u001b[0m \u001b[1;33m=\u001b[0m \u001b[1;33m{\u001b[0m\u001b[1;34m'learning_rate'\u001b[0m\u001b[1;33m:\u001b[0m \u001b[1;36m0.05\u001b[0m\u001b[1;33m,\u001b[0m\u001b[1;34m'max_depth'\u001b[0m\u001b[1;33m:\u001b[0m \u001b[1;36m5\u001b[0m\u001b[1;33m}\u001b[0m\u001b[1;33m\u001b[0m\u001b[1;33m\u001b[0m\u001b[0m\n\u001b[0;32m      3\u001b[0m \u001b[0mgbm\u001b[0m \u001b[1;33m=\u001b[0m \u001b[0mxgb\u001b[0m\u001b[1;33m.\u001b[0m\u001b[0mXGBClassifier\u001b[0m\u001b[1;33m(\u001b[0m\u001b[1;33m**\u001b[0m\u001b[0mparams\u001b[0m\u001b[1;33m)\u001b[0m\u001b[1;33m\u001b[0m\u001b[1;33m\u001b[0m\u001b[0m\n\u001b[0;32m      4\u001b[0m model = gbm.fit(X_train, y_train,\n\u001b[0;32m      5\u001b[0m                 eval_set = [[X_train, y_train],\n",
      "\u001b[1;31mModuleNotFoundError\u001b[0m: No module named 'xgboost'"
     ]
    }
   ],
   "source": [
    "import xgboost as xgb\n",
    "params = {'learning_rate': 0.05,'max_depth': 5}\n",
    "gbm = xgb.XGBClassifier(**params)\n",
    "model = gbm.fit(X_train, y_train,\n",
    "                eval_set = [[X_train, y_train],\n",
    "                          [X_valid, y_valid]],\n",
    "                eval_metric='logloss',\n",
    "                early_stopping_rounds=10)\n",
    "xgb_test_preds = model.predict(X_test)\n",
    "xgb_test_proba = model.predict_proba(X_test)[:,1]"
   ]
  },
  {
   "cell_type": "code",
   "execution_count": 4,
   "id": "bafa99d6",
   "metadata": {},
   "outputs": [
    {
     "ename": "NameError",
     "evalue": "name 'X_train' is not defined",
     "output_type": "error",
     "traceback": [
      "\u001b[1;31m---------------------------------------------------------------------------\u001b[0m",
      "\u001b[1;31mNameError\u001b[0m                                 Traceback (most recent call last)",
      "\u001b[1;32m<ipython-input-4-3383db99eefd>\u001b[0m in \u001b[0;36m<module>\u001b[1;34m\u001b[0m\n\u001b[0;32m      2\u001b[0m \u001b[0mparams\u001b[0m \u001b[1;33m=\u001b[0m \u001b[1;33m{\u001b[0m\u001b[1;34m'learning_rate'\u001b[0m\u001b[1;33m:\u001b[0m \u001b[1;36m0.05\u001b[0m\u001b[1;33m,\u001b[0m\u001b[1;34m'max_depth'\u001b[0m\u001b[1;33m:\u001b[0m \u001b[1;36m5\u001b[0m\u001b[1;33m}\u001b[0m\u001b[1;33m\u001b[0m\u001b[1;33m\u001b[0m\u001b[0m\n\u001b[0;32m      3\u001b[0m \u001b[0mgbm\u001b[0m \u001b[1;33m=\u001b[0m \u001b[0mxgb\u001b[0m\u001b[1;33m.\u001b[0m\u001b[0mXGBClassifier\u001b[0m\u001b[1;33m(\u001b[0m\u001b[1;33m**\u001b[0m\u001b[0mparams\u001b[0m\u001b[1;33m)\u001b[0m\u001b[1;33m\u001b[0m\u001b[1;33m\u001b[0m\u001b[0m\n\u001b[1;32m----> 4\u001b[1;33m model = gbm.fit(X_train, y_train,\n\u001b[0m\u001b[0;32m      5\u001b[0m                 eval_set = [[X_train, y_train],\n\u001b[0;32m      6\u001b[0m                           [X_valid, y_valid]],\n",
      "\u001b[1;31mNameError\u001b[0m: name 'X_train' is not defined"
     ]
    }
   ],
   "source": [
    "import xgboost as xgb\n",
    "params = {'learning_rate': 0.05,'max_depth': 5}\n",
    "gbm = xgb.XGBClassifier(**params)\n",
    "model = gbm.fit(X_train, y_train,\n",
    "                eval_set = [[X_train, y_train],\n",
    "                          [X_valid, y_valid]],\n",
    "                eval_metric='logloss',\n",
    "                early_stopping_rounds=10)\n",
    "xgb_test_preds = model.predict(X_test)\n",
    "xgb_test_proba = model.predict_proba(X_test)[:,1]"
   ]
  },
  {
   "cell_type": "code",
   "execution_count": 5,
   "id": "cbea5700",
   "metadata": {},
   "outputs": [
    {
     "ename": "NameError",
     "evalue": "name 'df' is not defined",
     "output_type": "error",
     "traceback": [
      "\u001b[1;31m---------------------------------------------------------------------------\u001b[0m",
      "\u001b[1;31mNameError\u001b[0m                                 Traceback (most recent call last)",
      "\u001b[1;32m<ipython-input-5-4855ace4ce3b>\u001b[0m in \u001b[0;36m<module>\u001b[1;34m\u001b[0m\n\u001b[1;32m----> 1\u001b[1;33m \u001b[0mdf\u001b[0m \u001b[1;33m=\u001b[0m \u001b[0mdf\u001b[0m\u001b[1;33m.\u001b[0m\u001b[0msort_values\u001b[0m\u001b[1;33m(\u001b[0m\u001b[0mby\u001b[0m\u001b[1;33m=\u001b[0m\u001b[1;34m'date'\u001b[0m\u001b[1;33m)\u001b[0m\u001b[1;33m.\u001b[0m\u001b[0mcopy\u001b[0m\u001b[1;33m(\u001b[0m\u001b[1;33m)\u001b[0m\u001b[1;33m.\u001b[0m\u001b[0mreset_index\u001b[0m\u001b[1;33m(\u001b[0m\u001b[0mdrop\u001b[0m\u001b[1;33m=\u001b[0m\u001b[1;32mTrue\u001b[0m\u001b[1;33m)\u001b[0m\u001b[1;33m\u001b[0m\u001b[1;33m\u001b[0m\u001b[0m\n\u001b[0m\u001b[0;32m      2\u001b[0m \u001b[0mX\u001b[0m \u001b[1;33m=\u001b[0m \u001b[0mdf\u001b[0m\u001b[1;33m.\u001b[0m\u001b[0mdrop\u001b[0m\u001b[1;33m(\u001b[0m\u001b[0mcolumns\u001b[0m\u001b[1;33m=\u001b[0m\u001b[1;33m[\u001b[0m\u001b[1;34m'home_team_win'\u001b[0m\u001b[1;33m,\u001b[0m \u001b[1;34m'game_id'\u001b[0m\u001b[1;33m]\u001b[0m\u001b[1;33m)\u001b[0m\u001b[1;33m\u001b[0m\u001b[1;33m\u001b[0m\u001b[0m\n\u001b[0;32m      3\u001b[0m \u001b[0my\u001b[0m \u001b[1;33m=\u001b[0m \u001b[0mdf\u001b[0m\u001b[1;33m.\u001b[0m\u001b[0mhome_team_win\u001b[0m\u001b[1;33m\u001b[0m\u001b[1;33m\u001b[0m\u001b[0m\n\u001b[0;32m      4\u001b[0m \u001b[1;33m\u001b[0m\u001b[0m\n\u001b[0;32m      5\u001b[0m \u001b[0mX_train\u001b[0m \u001b[1;33m=\u001b[0m \u001b[0mX\u001b[0m\u001b[1;33m[\u001b[0m\u001b[1;33m:\u001b[0m\u001b[1;33m-\u001b[0m\u001b[1;36m1000\u001b[0m\u001b[1;33m]\u001b[0m\u001b[1;33m\u001b[0m\u001b[1;33m\u001b[0m\u001b[0m\n",
      "\u001b[1;31mNameError\u001b[0m: name 'df' is not defined"
     ]
    }
   ],
   "source": [
    "df = df.sort_values(by='date').copy().reset_index(drop=True)\n",
    "X = df.drop(columns=['home_team_win', 'game_id'])\n",
    "y = df.home_team_win\n",
    "\n",
    "X_train = X[:-1000]\n",
    "y_train = y[:-1000]\n",
    "X_valid = X[-1000:-500]\n",
    "y_valid = y[-1000:-500]\n",
    "X_test = X[-500:]\n",
    "y_test = y[-500:]"
   ]
  },
  {
   "cell_type": "code",
   "execution_count": 10,
   "id": "df299fdf",
   "metadata": {},
   "outputs": [
    {
     "ename": "FileNotFoundError",
     "evalue": "[Errno 2] No such file or directory: 'baseline.pkl'",
     "output_type": "error",
     "traceback": [
      "\u001b[1;31m---------------------------------------------------------------------------\u001b[0m",
      "\u001b[1;31mFileNotFoundError\u001b[0m                         Traceback (most recent call last)",
      "\u001b[1;32m<ipython-input-10-10dac21a2722>\u001b[0m in \u001b[0;36m<module>\u001b[1;34m\u001b[0m\n\u001b[0;32m     36\u001b[0m     \u001b[0mplt\u001b[0m\u001b[1;33m.\u001b[0m\u001b[0mshow\u001b[0m\u001b[1;33m(\u001b[0m\u001b[1;33m)\u001b[0m\u001b[1;33m\u001b[0m\u001b[1;33m\u001b[0m\u001b[0m\n\u001b[0;32m     37\u001b[0m \u001b[1;33m\u001b[0m\u001b[0m\n\u001b[1;32m---> 38\u001b[1;33m \u001b[0moutcomes\u001b[0m\u001b[1;33m,\u001b[0m\u001b[0mpredictions\u001b[0m\u001b[1;33m,\u001b[0m\u001b[0mprobabilities\u001b[0m \u001b[1;33m=\u001b[0m \u001b[0mpickle\u001b[0m\u001b[1;33m.\u001b[0m\u001b[0mload\u001b[0m\u001b[1;33m(\u001b[0m\u001b[0mopen\u001b[0m\u001b[1;33m(\u001b[0m\u001b[1;34m'baseline.pkl'\u001b[0m\u001b[1;33m,\u001b[0m\u001b[1;34m'rb'\u001b[0m\u001b[1;33m)\u001b[0m\u001b[1;33m)\u001b[0m\u001b[1;33m\u001b[0m\u001b[1;33m\u001b[0m\u001b[0m\n\u001b[0m\u001b[0;32m     39\u001b[0m data = [\n\u001b[0;32m     40\u001b[0m     \u001b[1;33m(\u001b[0m\u001b[0moutcomes\u001b[0m\u001b[1;33m,\u001b[0m \u001b[0mpredictions\u001b[0m\u001b[1;33m,\u001b[0m \u001b[0mprobabilities\u001b[0m\u001b[1;33m,\u001b[0m \u001b[1;34m'Casino'\u001b[0m\u001b[1;33m)\u001b[0m\u001b[1;33m,\u001b[0m\u001b[1;33m\u001b[0m\u001b[1;33m\u001b[0m\u001b[0m\n",
      "\u001b[1;31mFileNotFoundError\u001b[0m: [Errno 2] No such file or directory: 'baseline.pkl'"
     ]
    }
   ],
   "source": [
    "from sklearn.calibration import calibration_curve\n",
    "from sklearn.metrics import accuracy_score, brier_score_loss\n",
    "import matplotlib.pyplot as plt\n",
    "import pickle\n",
    "\n",
    "def cal_curve(data, bins):\n",
    "    # adapted from:\n",
    "    #https://scikit-learn.org/stable/auto_examples/calibration/plot_calibration_curve.html\n",
    "    fig = plt.figure(1, figsize=(12, 8))\n",
    "    ax1 = plt.subplot2grid((3, 1), (0, 0), rowspan=2)\n",
    "    ax2 = plt.subplot2grid((3, 1), (2, 0))\n",
    "\n",
    "    ax1.plot([0, 1], [0, 1], \"k:\", label=\"Perfectly calibrated\")\n",
    "\n",
    "    for y_test, y_pred, y_proba, name in data:\n",
    "        brier = brier_score_loss(y_test, y_proba)\n",
    "        print(\"{}\\t\\tAccuracy:{:.4f}\\t Brier Loss: {:.4f}\".format(\n",
    "            name, accuracy_score(y_test, y_pred), brier))\n",
    "        fraction_of_positives, mean_predicted_value = \\\n",
    "            calibration_curve(y_test, y_proba, n_bins=bins)\n",
    "        ax1.plot(mean_predicted_value, fraction_of_positives,\n",
    "                 label=\"%s (%1.4f)\" % (name, brier))\n",
    "        ax2.hist(y_proba, range=(0, 1), bins=bins, label=name,\n",
    "                 histtype=\"step\", lw=2)\n",
    "\n",
    "    ax1.set_ylabel(\"Fraction of positives\")\n",
    "    ax1.set_ylim([-0.05, 1.05])\n",
    "    ax1.legend(loc=\"lower right\")\n",
    "    ax1.set_title('Calibration plots  (reliability curve)')\n",
    "\n",
    "    ax2.set_xlabel(\"Mean predicted value\")\n",
    "    ax2.set_ylabel(\"Count\")\n",
    "    ax2.legend(loc=\"lower right\")\n",
    "\n",
    "    plt.tight_layout()\n",
    "    plt.show()\n",
    "\n",
    "outcomes,predictions,probabilities = pickle.load(open('baseline.pkl','rb'))\n",
    "data = [\n",
    "    (outcomes, predictions, probabilities, 'Casino'),\n",
    "    (y_test,xgb_test_preds, xgb_test_proba, 'XGBoost')\n",
    "]\n",
    "cal_curve(data, 15)"
   ]
  },
  {
   "cell_type": "code",
   "execution_count": null,
   "id": "57b71f6d",
   "metadata": {},
   "outputs": [],
   "source": []
  }
 ],
 "metadata": {
  "kernelspec": {
   "display_name": "Python 3",
   "language": "python",
   "name": "python3"
  },
  "language_info": {
   "codemirror_mode": {
    "name": "ipython",
    "version": 3
   },
   "file_extension": ".py",
   "mimetype": "text/x-python",
   "name": "python",
   "nbconvert_exporter": "python",
   "pygments_lexer": "ipython3",
   "version": "3.8.8"
  }
 },
 "nbformat": 4,
 "nbformat_minor": 5
}
