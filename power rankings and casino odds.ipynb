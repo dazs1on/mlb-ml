{
 "cells": [
  {
   "cell_type": "code",
   "execution_count": 1,
   "id": "414caae5",
   "metadata": {},
   "outputs": [],
   "source": [
    "import pickle\n",
    "df = pickle.load(open(\"dataframe.pkl\",\"rb\"))"
   ]
  },
  {
   "cell_type": "code",
   "execution_count": 2,
   "id": "fa7e5558",
   "metadata": {},
   "outputs": [],
   "source": [
    "from elote import EloCompetitor\n",
    "ratings = {}\n",
    "for x in df.home_team_abbr.unique():\n",
    "    ratings[x]=EloCompetitor()\n",
    "for x in df.away_team_abbr.unique():\n",
    "    ratings[x]=EloCompetitor()\n",
    "\n",
    "home_team_elo = []\n",
    "away_team_elo = []\n",
    "elo_exp = []\n",
    "\n",
    "df = df.sort_values(by='date').reset_index(drop=True)\n",
    "for i, r in df.iterrows():\n",
    "    # get pre-game ratings\n",
    "    elo_exp.append(ratings[r.home_team_abbr].expected_score(ratings[r.away_team_abbr]))\n",
    "    home_team_elo.append(ratings[r.home_team_abbr].rating)\n",
    "    away_team_elo.append(ratings[r.away_team_abbr].rating)\n",
    "    # update ratings\n",
    "    if r.home_team_win:\n",
    "        ratings[r.home_team_abbr].beat(ratings[r.away_team_abbr])\n",
    "    else:\n",
    "        ratings[r.away_team_abbr].beat(ratings[r.home_team_abbr])\n",
    "\n",
    "df['elo_exp'] = elo_exp\n",
    "df['home_team_elo'] = home_team_elo\n",
    "df['away_team_elo'] = away_team_elo"
   ]
  },
  {
   "cell_type": "code",
   "execution_count": 3,
   "id": "59c41981",
   "metadata": {},
   "outputs": [],
   "source": [
    "ratings = {}\n",
    "for x in df.home_team_abbr.unique():\n",
    "    ratings[x]=EloCompetitor()\n",
    "    ratings[x]._k_score=16\n",
    "for x in df.away_team_abbr.unique():\n",
    "    ratings[x]=EloCompetitor()\n",
    "    ratings[x]._k_score=16\n",
    "\n",
    "home_team_elo = []\n",
    "away_team_elo = []\n",
    "elo_exp = []\n",
    "\n",
    "df = df.sort_values(by='date').reset_index(drop=True)\n",
    "for i, r in df.iterrows():\n",
    "    # get pregame ratings\n",
    "    elo_exp.append(ratings[r.home_team_abbr].expected_score(ratings[r.away_team_abbr]))\n",
    "    home_team_elo.append(ratings[r.home_team_abbr].rating)\n",
    "    away_team_elo.append(ratings[r.away_team_abbr].rating)\n",
    "    # update ratings\n",
    "    if r.home_team_win:\n",
    "        ratings[r.home_team_abbr].beat(ratings[r.away_team_abbr])\n",
    "    else:\n",
    "        ratings[r.away_team_abbr].beat(ratings[r.home_team_abbr])\n",
    "\n",
    "df['elo_slow_exp'] = elo_exp\n",
    "df['home_team_elo_slow'] = home_team_elo\n",
    "df['away_team_elo_slow'] = away_team_elo"
   ]
  },
  {
   "cell_type": "code",
   "execution_count": 4,
   "id": "f8e5ae6c",
   "metadata": {},
   "outputs": [],
   "source": [
    "from elote import GlickoCompetitor\n",
    "ratings = {}\n",
    "for x in df.home_team_abbr.unique():\n",
    "    ratings[x]=GlickoCompetitor()\n",
    "for x in df.away_team_abbr.unique():\n",
    "    ratings[x]=GlickoCompetitor()\n",
    "\n",
    "home_team_glick = []\n",
    "away_team_glick = []\n",
    "glick_exp = []\n",
    "\n",
    "df = df.sort_values(by='date').reset_index(drop=True)\n",
    "for i, r in df.iterrows():\n",
    "    # get pregame ratings\n",
    "    glick_exp.append(ratings[r.home_team_abbr].expected_score(ratings[r.away_team_abbr]))\n",
    "    home_team_glick.append(ratings[r.home_team_abbr].rating)\n",
    "    away_team_glick.append(ratings[r.away_team_abbr].rating)\n",
    "    # update ratings\n",
    "    if r.home_team_win:\n",
    "        ratings[r.home_team_abbr].beat(ratings[r.away_team_abbr])\n",
    "    else:\n",
    "        ratings[r.away_team_abbr].beat(ratings[r.home_team_abbr])\n",
    "\n",
    "df['glick_exp'] = glick_exp\n",
    "df['home_team_glick'] = home_team_glick\n",
    "df['away_team_glick'] = away_team_glick"
   ]
  },
  {
   "cell_type": "code",
   "execution_count": 5,
   "id": "f4d573a7",
   "metadata": {},
   "outputs": [],
   "source": [
    "from trueskill import Rating, quality, rate\n",
    "ratings = {}\n",
    "for x in df.home_team_abbr.unique():\n",
    "    ratings[x]=Rating(25)\n",
    "for x in df.away_team_abbr.unique():\n",
    "    ratings[x]=Rating(25)\n",
    "for x in df.home_pitcher.unique():\n",
    "    ratings[x]=Rating(25)\n",
    "for x in df.away_pitcher.unique():\n",
    "    ratings[x]=Rating(25)\n",
    "\n",
    "ts_quality = []\n",
    "pitcher_ts_diff = []\n",
    "team_ts_diff = []\n",
    "home_pitcher_ts = []\n",
    "away_pitcher_ts = []\n",
    "home_team_ts = []\n",
    "away_team_ts = []\n",
    "df = df.sort_values(by='date').copy()\n",
    "for i, r in df.iterrows():\n",
    "    # get pre-match trueskill ratings from dict\n",
    "    match = [(ratings[r.home_team_abbr], ratings[r.home_pitcher]),\n",
    "            (ratings[r.away_team_abbr], ratings[r.away_pitcher])]\n",
    "    ts_quality.append(quality(match))\n",
    "    pitcher_ts_diff.append(ratings[r.home_pitcher].mu-ratings[r.away_pitcher].mu)\n",
    "    team_ts_diff.append(ratings[r.home_team_abbr].mu-ratings[r.away_team_abbr].mu)\n",
    "    home_pitcher_ts.append(ratings[r.home_pitcher].mu)\n",
    "    away_pitcher_ts.append(ratings[r.away_pitcher].mu)\n",
    "    home_team_ts.append(ratings[r.home_team_abbr].mu)\n",
    "    away_team_ts.append(ratings[r.away_team_abbr].mu)\n",
    "\n",
    "    if r.date < df.date.max():\n",
    "        # update ratings dictionary with post-match ratings\n",
    "        if r.home_team_win==1:\n",
    "            match = [(ratings[r.home_team_abbr], ratings[r.home_pitcher]),\n",
    "                     (ratings[r.away_team_abbr], ratings[r.away_pitcher])]\n",
    "            [(ratings[r.home_team_abbr], ratings[r.home_pitcher]),\n",
    "            (ratings[r.away_team_abbr], ratings[r.away_pitcher])] = rate(match)\n",
    "        else:\n",
    "            match = [(ratings[r.away_team_abbr], ratings[r.away_pitcher]),\n",
    "                     (ratings[r.home_team_abbr], ratings[r.home_pitcher])]\n",
    "            [(ratings[r.away_team_abbr], ratings[r.away_pitcher]),\n",
    "            (ratings[r.home_team_abbr], ratings[r.home_pitcher])] = rate(match)\n",
    "\n",
    "df['ts_game_quality'] = ts_quality\n",
    "df['pitcher_ts_diff'] = pitcher_ts_diff\n",
    "df['team_ts_diff'] = team_ts_diff\n",
    "df['home_pitcher_ts'] = home_pitcher_ts\n",
    "df['away_pitcher_ts'] = away_pitcher_ts\n",
    "df['home_team_ts'] = home_team_ts\n",
    "df['away_team_ts'] = away_team_ts"
   ]
  },
  {
   "cell_type": "code",
   "execution_count": 6,
   "id": "ff91fc8d",
   "metadata": {},
   "outputs": [
    {
     "name": "stdout",
     "output_type": "stream",
     "text": [
      "Days of odds data needed: 913\n"
     ]
    }
   ],
   "source": [
    "import pandas as pd\n",
    "dates = pd.to_datetime(df['date'], unit='s')\n",
    "game_days = dates.dt.strftime('%Y-%m-%d').unique()\n",
    "print(\"Days of odds data needed:\", len(game_days))"
   ]
  },
  {
   "cell_type": "code",
   "execution_count": 7,
   "id": "c3303aa6",
   "metadata": {},
   "outputs": [
    {
     "name": "stdout",
     "output_type": "stream",
     "text": [
      "2021-07-10 04:16:34.611111 2016-06-15 1000\n",
      "2021-07-10 04:17:14.204255 2016-08-31 2000\n",
      "2021-07-10 04:18:00.489954 2017-05-10 3000\n",
      "2021-07-10 04:18:36.691090 2017-07-24 4000\n",
      "2021-07-10 04:19:22.889206 2018-03-29 5000\n",
      "2021-07-10 04:20:03.237488 2018-06-10 6000\n",
      "2021-07-10 04:20:40.795074 2018-08-26 7000\n",
      "2021-07-10 04:21:28.050338 2019-05-01 8000\n",
      "2021-07-10 04:22:10.499473 2019-07-17 9000\n",
      "2021-07-10 04:22:48.600502 2019-09-29 10000\n",
      "2021-07-10 04:23:35.325977 2020-09-26 11000\n",
      "Done! Games downloaded: 11071\n"
     ]
    }
   ],
   "source": [
    "import requests\n",
    "from bs4 import BeautifulSoup as bs\n",
    "import datetime as dt\n",
    "\n",
    "game_data = []\n",
    "for d in game_days:\n",
    "    # get the web page with game data on it\n",
    "    url = f'https://www.covers.com/Sports/MLB/Matchups?selectedDate={d}'\n",
    "    resp = requests.get(url)\n",
    "\n",
    "    # parse the games\n",
    "    scraped_games = bs(resp.text).findAll('div',{'class':'cmg_matchup_game_box'})\n",
    "    for g in scraped_games:\n",
    "        game = {}\n",
    "        game['home_moneyline'] = g['data-game-odd']\n",
    "        game['date'] = g['data-game-date']\n",
    "        game['away_team_abbr'] = g['data-away-team-shortname-search']\n",
    "        game['home_team_abbr'] = g['data-home-team-shortname-search']\n",
    "        try:\n",
    "            game['home_score'] =g.find('div',{'class':'cmg_matchup_list_score_home'}).text.strip()\n",
    "            game['away_score'] =g.find('div',{'class':'cmg_matchup_list_score_away'}).text.strip()\n",
    "        except:\n",
    "            game['home_score'] =''\n",
    "            game['away_score'] =''\n",
    "\n",
    "        game_data.append(game)\n",
    "        if len(game_data) % 1000==0:\n",
    "            #show progress\n",
    "            print(dt.datetime.now(), d, len(game_data))\n",
    "print(\"Done! Games downloaded:\", len(game_data))"
   ]
  },
  {
   "cell_type": "code",
   "execution_count": 8,
   "id": "108ddc53",
   "metadata": {},
   "outputs": [],
   "source": [
    "import pickle\n",
    "pickle.dump(game_data, open('covers_data_2.pkl','wb'))"
   ]
  },
  {
   "cell_type": "code",
   "execution_count": 9,
   "id": "6f2af3cd",
   "metadata": {},
   "outputs": [],
   "source": [
    "import pickle\n",
    "game_data = pickle.load(open('covers_data_2.pkl','rb'))"
   ]
  },
  {
   "cell_type": "code",
   "execution_count": 10,
   "id": "bca94e21",
   "metadata": {},
   "outputs": [],
   "source": [
    "import numpy as np\n",
    "import pandas as pd\n",
    "odds = pd.DataFrame(game_data)\n",
    "odds['home_moneyline'].replace('', np.nan, inplace=True)\n",
    "odds.dropna(subset=['home_moneyline'], inplace=True)\n",
    "odds.home_moneyline = pd.to_numeric(odds.home_moneyline)\n",
    "odds.date = pd.to_datetime(odds.date).dt.date"
   ]
  },
  {
   "cell_type": "code",
   "execution_count": 11,
   "id": "d11d4be9",
   "metadata": {},
   "outputs": [],
   "source": [
    "import warnings\n",
    "warnings.filterwarnings('ignore')\n",
    "warnings.simplefilter(action='ignore', category=FutureWarning)\n",
    "\n",
    "odds.home_team_abbr[odds.home_team_abbr=='SF']='SFG'\n",
    "odds.home_team_abbr[odds.home_team_abbr=='TB']='TBR'\n",
    "odds.home_team_abbr[odds.home_team_abbr=='WAS']='WSN'\n",
    "odds.home_team_abbr[odds.home_team_abbr=='KC']='KCR'\n",
    "odds.home_team_abbr[odds.home_team_abbr=='SD']='SDP'\n",
    "\n",
    "odds.away_team_abbr[odds.away_team_abbr=='SF']='SFG'\n",
    "odds.away_team_abbr[odds.away_team_abbr=='TB']='TBR'\n",
    "odds.away_team_abbr[odds.away_team_abbr=='WAS']='WSN'\n",
    "odds.away_team_abbr[odds.away_team_abbr=='KC']='KCR'\n",
    "odds.away_team_abbr[odds.away_team_abbr=='SD']='SDP'"
   ]
  },
  {
   "cell_type": "code",
   "execution_count": 12,
   "id": "b7aa0716",
   "metadata": {},
   "outputs": [],
   "source": [
    "odds['odds_proba']=np.nan\n",
    "odds['odds_proba'][odds.home_moneyline<0] = -odds.home_moneyline/(-odds.home_moneyline + 100)\n",
    "odds['odds_proba'][odds.home_moneyline>0] = (100/(odds.home_moneyline + 100))"
   ]
  },
  {
   "cell_type": "code",
   "execution_count": 13,
   "id": "971b15b0",
   "metadata": {},
   "outputs": [
    {
     "name": "stdout",
     "output_type": "stream",
     "text": [
      "dataframe shape before merge: (10785, 1142)\n",
      "dataframe shape after merge: (10785, 1143)\n"
     ]
    }
   ],
   "source": [
    "print('dataframe shape before merge:', df.shape)\n",
    "# get dates into the same format\n",
    "odds['date'] = (pd.to_datetime(pd.to_datetime(odds['date'])) - pd.Timestamp(\"1970-01-01\")) // pd.Timedelta('1s')\n",
    "\n",
    "# do the merge\n",
    "df = pd.merge_asof(left=df.sort_values(by='date'),\n",
    "                   right=odds[['home_team_abbr','date', 'away_team_abbr','odds_proba']].sort_values(by='date'),\n",
    "                   by=['home_team_abbr','away_team_abbr'],\n",
    "                   on='date')\n",
    "df = df.sort_values(by='date').copy().reset_index(drop=True)\n",
    "print('dataframe shape after merge:', df.shape)"
   ]
  },
  {
   "cell_type": "code",
   "execution_count": 14,
   "id": "92b4a614",
   "metadata": {},
   "outputs": [],
   "source": [
    "import pickle\n",
    "pickle.dump(df, open('dataframe_part3.pkl','wb'))"
   ]
  },
  {
   "cell_type": "code",
   "execution_count": 15,
   "id": "53524870",
   "metadata": {},
   "outputs": [],
   "source": [
    "\n",
    "import pickle\n",
    "df = pickle.load(open('dataframe_part3.pkl','rb'))"
   ]
  },
  {
   "cell_type": "code",
   "execution_count": 16,
   "id": "11466d37",
   "metadata": {},
   "outputs": [],
   "source": [
    "import xgboost as xgb\n",
    "\n",
    "# target encoding\n",
    "encode_me = [x for x in df.keys() if 'object' in str(df[x].dtype)]\n",
    "for x in encode_me:\n",
    "    df[x] = df.groupby(x)['home_team_win'].apply(lambda x:x.rolling(180).mean()).shift(1)\n",
    "\n",
    "# create test, train splits\n",
    "df = df.sort_values(by='date').copy().reset_index(drop=True)\n",
    "X = df.drop(columns=['home_team_win', 'game_id'])\n",
    "y = df.home_team_win\n",
    "\n",
    "X_train = X[:-1000]\n",
    "y_train = y[:-1000]\n",
    "X_valid = X[-1000:-500]\n",
    "y_valid = y[-1000:-500]\n",
    "X_test = X[-500:]\n",
    "y_test = y[-500:]"
   ]
  },
  {
   "cell_type": "code",
   "execution_count": 17,
   "id": "ecab2a87",
   "metadata": {},
   "outputs": [
    {
     "name": "stdout",
     "output_type": "stream",
     "text": [
      "[0]\tvalidation_0-logloss:0.69208\tvalidation_1-logloss:0.69195\n",
      "[1]\tvalidation_0-logloss:0.69108\tvalidation_1-logloss:0.69072\n",
      "[2]\tvalidation_0-logloss:0.69015\tvalidation_1-logloss:0.68981\n",
      "[3]\tvalidation_0-logloss:0.68927\tvalidation_1-logloss:0.68872\n",
      "[4]\tvalidation_0-logloss:0.68844\tvalidation_1-logloss:0.68787\n",
      "[5]\tvalidation_0-logloss:0.68766\tvalidation_1-logloss:0.68710\n",
      "[6]\tvalidation_0-logloss:0.68691\tvalidation_1-logloss:0.68624\n",
      "[7]\tvalidation_0-logloss:0.68620\tvalidation_1-logloss:0.68555\n",
      "[8]\tvalidation_0-logloss:0.68554\tvalidation_1-logloss:0.68487\n",
      "[9]\tvalidation_0-logloss:0.68491\tvalidation_1-logloss:0.68426\n",
      "[10]\tvalidation_0-logloss:0.68431\tvalidation_1-logloss:0.68366\n",
      "[11]\tvalidation_0-logloss:0.68374\tvalidation_1-logloss:0.68324\n",
      "[12]\tvalidation_0-logloss:0.68319\tvalidation_1-logloss:0.68260\n",
      "[13]\tvalidation_0-logloss:0.68267\tvalidation_1-logloss:0.68227\n",
      "[14]\tvalidation_0-logloss:0.68216\tvalidation_1-logloss:0.68176\n",
      "[15]\tvalidation_0-logloss:0.68169\tvalidation_1-logloss:0.68151\n",
      "[16]\tvalidation_0-logloss:0.68123\tvalidation_1-logloss:0.68105\n",
      "[17]\tvalidation_0-logloss:0.68079\tvalidation_1-logloss:0.68064\n",
      "[18]\tvalidation_0-logloss:0.68036\tvalidation_1-logloss:0.68043\n",
      "[19]\tvalidation_0-logloss:0.67996\tvalidation_1-logloss:0.67991\n",
      "[20]\tvalidation_0-logloss:0.67958\tvalidation_1-logloss:0.67967\n",
      "[21]\tvalidation_0-logloss:0.67920\tvalidation_1-logloss:0.67929\n",
      "[22]\tvalidation_0-logloss:0.67885\tvalidation_1-logloss:0.67914\n",
      "[23]\tvalidation_0-logloss:0.67851\tvalidation_1-logloss:0.67867\n",
      "[24]\tvalidation_0-logloss:0.67818\tvalidation_1-logloss:0.67835\n",
      "[25]\tvalidation_0-logloss:0.67786\tvalidation_1-logloss:0.67807\n",
      "[26]\tvalidation_0-logloss:0.67756\tvalidation_1-logloss:0.67793\n",
      "[27]\tvalidation_0-logloss:0.67727\tvalidation_1-logloss:0.67764\n",
      "[28]\tvalidation_0-logloss:0.67699\tvalidation_1-logloss:0.67740\n",
      "[29]\tvalidation_0-logloss:0.67672\tvalidation_1-logloss:0.67716\n",
      "[30]\tvalidation_0-logloss:0.67646\tvalidation_1-logloss:0.67690\n",
      "[31]\tvalidation_0-logloss:0.67621\tvalidation_1-logloss:0.67669\n",
      "[32]\tvalidation_0-logloss:0.67597\tvalidation_1-logloss:0.67662\n",
      "[33]\tvalidation_0-logloss:0.67574\tvalidation_1-logloss:0.67633\n",
      "[34]\tvalidation_0-logloss:0.67551\tvalidation_1-logloss:0.67620\n",
      "[35]\tvalidation_0-logloss:0.67529\tvalidation_1-logloss:0.67602\n",
      "[36]\tvalidation_0-logloss:0.67508\tvalidation_1-logloss:0.67577\n",
      "[37]\tvalidation_0-logloss:0.67488\tvalidation_1-logloss:0.67565\n",
      "[38]\tvalidation_0-logloss:0.67468\tvalidation_1-logloss:0.67550\n",
      "[39]\tvalidation_0-logloss:0.67450\tvalidation_1-logloss:0.67526\n",
      "[40]\tvalidation_0-logloss:0.67431\tvalidation_1-logloss:0.67515\n",
      "[41]\tvalidation_0-logloss:0.67413\tvalidation_1-logloss:0.67493\n",
      "[42]\tvalidation_0-logloss:0.67396\tvalidation_1-logloss:0.67480\n",
      "[43]\tvalidation_0-logloss:0.67379\tvalidation_1-logloss:0.67471\n",
      "[44]\tvalidation_0-logloss:0.67363\tvalidation_1-logloss:0.67471\n",
      "[45]\tvalidation_0-logloss:0.67347\tvalidation_1-logloss:0.67458\n",
      "[46]\tvalidation_0-logloss:0.67331\tvalidation_1-logloss:0.67473\n",
      "[47]\tvalidation_0-logloss:0.67316\tvalidation_1-logloss:0.67464\n",
      "[48]\tvalidation_0-logloss:0.67301\tvalidation_1-logloss:0.67463\n",
      "[49]\tvalidation_0-logloss:0.67287\tvalidation_1-logloss:0.67464\n",
      "[50]\tvalidation_0-logloss:0.67273\tvalidation_1-logloss:0.67452\n",
      "[51]\tvalidation_0-logloss:0.67259\tvalidation_1-logloss:0.67442\n",
      "[52]\tvalidation_0-logloss:0.67246\tvalidation_1-logloss:0.67456\n",
      "[53]\tvalidation_0-logloss:0.67233\tvalidation_1-logloss:0.67449\n",
      "[54]\tvalidation_0-logloss:0.67220\tvalidation_1-logloss:0.67451\n",
      "[55]\tvalidation_0-logloss:0.67208\tvalidation_1-logloss:0.67446\n",
      "[56]\tvalidation_0-logloss:0.67196\tvalidation_1-logloss:0.67436\n",
      "[57]\tvalidation_0-logloss:0.67184\tvalidation_1-logloss:0.67431\n",
      "[58]\tvalidation_0-logloss:0.67173\tvalidation_1-logloss:0.67433\n",
      "[59]\tvalidation_0-logloss:0.67162\tvalidation_1-logloss:0.67425\n",
      "[60]\tvalidation_0-logloss:0.67151\tvalidation_1-logloss:0.67439\n",
      "[61]\tvalidation_0-logloss:0.67141\tvalidation_1-logloss:0.67431\n",
      "[62]\tvalidation_0-logloss:0.67130\tvalidation_1-logloss:0.67428\n",
      "[63]\tvalidation_0-logloss:0.67121\tvalidation_1-logloss:0.67436\n",
      "[64]\tvalidation_0-logloss:0.67111\tvalidation_1-logloss:0.67429\n",
      "[65]\tvalidation_0-logloss:0.67101\tvalidation_1-logloss:0.67425\n",
      "[66]\tvalidation_0-logloss:0.67092\tvalidation_1-logloss:0.67412\n",
      "[67]\tvalidation_0-logloss:0.67083\tvalidation_1-logloss:0.67409\n",
      "[68]\tvalidation_0-logloss:0.67074\tvalidation_1-logloss:0.67403\n",
      "[69]\tvalidation_0-logloss:0.67066\tvalidation_1-logloss:0.67411\n",
      "[70]\tvalidation_0-logloss:0.67057\tvalidation_1-logloss:0.67413\n",
      "[71]\tvalidation_0-logloss:0.67049\tvalidation_1-logloss:0.67427\n",
      "[72]\tvalidation_0-logloss:0.67041\tvalidation_1-logloss:0.67421\n",
      "[73]\tvalidation_0-logloss:0.67033\tvalidation_1-logloss:0.67425\n",
      "[74]\tvalidation_0-logloss:0.67026\tvalidation_1-logloss:0.67422\n",
      "[75]\tvalidation_0-logloss:0.67018\tvalidation_1-logloss:0.67427\n",
      "[76]\tvalidation_0-logloss:0.67011\tvalidation_1-logloss:0.67434\n",
      "[77]\tvalidation_0-logloss:0.67003\tvalidation_1-logloss:0.67437\n",
      "[78]\tvalidation_0-logloss:0.66996\tvalidation_1-logloss:0.67446\n"
     ]
    }
   ],
   "source": [
    "params = {'learning_rate': 0.035,'max_depth': 1}\n",
    "gbm = xgb.XGBClassifier(**params)\n",
    "model = gbm.fit(X_train, y_train,\n",
    "                eval_set = [[X_train, y_train],\n",
    "                          [X_valid, y_valid]],\n",
    "                eval_metric='logloss',\n",
    "                early_stopping_rounds=10)\n",
    "xgb_test_preds = model.predict(X_test)\n",
    "xgb_test_proba = model.predict_proba(X_test)[:,1]"
   ]
  },
  {
   "cell_type": "code",
   "execution_count": 18,
   "id": "c60588ce",
   "metadata": {},
   "outputs": [
    {
     "name": "stdout",
     "output_type": "stream",
     "text": [
      "Casino\t\tAccuracy:0.5860\t Brier Loss: 0.2396\n",
      "XGBoost\t\tAccuracy:0.5840\t Brier Loss: 0.2406\n"
     ]
    },
    {
     "data": {
      "image/png": "[encoded data removed]",
      "text/plain": [
       "<Figure size 864x576 with 2 Axes>"
      ]
     },
     "metadata": {
      "needs_background": "light"
     },
     "output_type": "display_data"
    }
   ],
   "source": [
    "from sklearn.calibration import calibration_curve\n",
    "from sklearn.metrics import accuracy_score, brier_score_loss\n",
    "import matplotlib.pyplot as plt\n",
    "import pickle\n",
    "\n",
    "def cal_curve(data, bins):\n",
    "    # adapted from:\n",
    "    #https://scikit-learn.org/stable/auto_examples/calibration/plot_calibration_curve.html\n",
    "    fig = plt.figure(1, figsize=(12, 8))\n",
    "    ax1 = plt.subplot2grid((3, 1), (0, 0), rowspan=2)\n",
    "    ax2 = plt.subplot2grid((3, 1), (2, 0))\n",
    "\n",
    "    ax1.plot([0, 1], [0, 1], \"k:\", label=\"Perfectly calibrated\")\n",
    "\n",
    "    for y_test, y_pred, y_proba, name in data:\n",
    "        brier = brier_score_loss(y_test, y_proba)\n",
    "        print(\"{}\\t\\tAccuracy:{:.4f}\\t Brier Loss: {:.4f}\".format(\n",
    "            name, accuracy_score(y_test, y_pred), brier))\n",
    "        fraction_of_positives, mean_predicted_value = \\\n",
    "            calibration_curve(y_test, y_proba, n_bins=bins)\n",
    "        ax1.plot(mean_predicted_value, fraction_of_positives,\n",
    "                 label=\"%s (%1.4f)\" % (name, brier))\n",
    "        ax2.hist(y_proba, range=(0, 1), bins=bins, label=name,\n",
    "                 histtype=\"step\", lw=2)\n",
    "\n",
    "    ax1.set_ylabel(\"Fraction of positives\")\n",
    "    ax1.set_ylim([-0.05, 1.05])\n",
    "    ax1.legend(loc=\"lower right\")\n",
    "    ax1.set_title('Calibration plots  (reliability curve)')\n",
    "\n",
    "    ax2.set_xlabel(\"Mean predicted value\")\n",
    "    ax2.set_ylabel(\"Count\")\n",
    "    ax2.legend(loc=\"lower right\")\n",
    "\n",
    "    plt.tight_layout()\n",
    "    plt.show()\n",
    "\n",
    "casino_proba = X_test['odds_proba']\n",
    "casino_preds = X_test['odds_proba']>.5\n",
    "\n",
    "data = [\n",
    "    (y_test, casino_preds, casino_proba, 'Casino'),\n",
    "    (y_test,xgb_test_preds, xgb_test_proba, 'XGBoost')\n",
    "]\n",
    "cal_curve(data, 15)"
   ]
  },
  {
   "cell_type": "code",
   "execution_count": null,
   "id": "8b830b54",
   "metadata": {},
   "outputs": [],
   "source": []
  }
 ],
 "metadata": {
  "kernelspec": {
   "display_name": "Python 3",
   "language": "python",
   "name": "python3"
  },
  "language_info": {
   "codemirror_mode": {
    "name": "ipython",
    "version": 3
   },
   "file_extension": ".py",
   "mimetype": "text/x-python",
   "name": "python",
   "nbconvert_exporter": "python",
   "pygments_lexer": "ipython3",
   "version": "3.8.8"
  }
 },
 "nbformat": 4,
 "nbformat_minor": 5
}
